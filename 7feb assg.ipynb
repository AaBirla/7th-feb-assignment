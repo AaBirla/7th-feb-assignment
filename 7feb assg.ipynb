{
 "cells": [
  {
   "cell_type": "markdown",
   "id": "da63dd22-f7d0-4695-8467-2ee90f43ee8e",
   "metadata": {},
   "source": [
    "### Q1. You are writing code for a company. The requirement of the company is that you create a python function that will check whether the password entered by the user is correct or not. The function should take the password as input and return the string “Valid Password” if the entered password follows the below-given password guidelines else it should return “Invalid Password”."
   ]
  },
  {
   "cell_type": "markdown",
   "id": "99d65dee-ca4d-4427-918b-6ab2d27e92a8",
   "metadata": {},
   "source": [
    "Note: 1. The Password should contain at least two uppercase letters and at least two lowercase letters. 2. The Password should contain at least a number and three special characters. 3. The length of the password should be 10 characters long"
   ]
  },
  {
   "cell_type": "code",
   "execution_count": 2,
   "id": "37f6495b-4ad1-4da9-a855-78f369e91710",
   "metadata": {},
   "outputs": [
    {
     "name": "stdout",
     "output_type": "stream",
     "text": [
      "Invalid Password\n",
      "Valid Password\n",
      "Invalid Password\n"
     ]
    }
   ],
   "source": [
    "def check_password(password):\n",
    "    \n",
    "    # check length of password is 10\n",
    "    if len(password)!=10:\n",
    "        return 'Invalid Password'\n",
    "    \n",
    "    # check for at least 2 uppercase letter\n",
    "    upper_count=0\n",
    "    for char in password:\n",
    "        if char.isupper():\n",
    "            upper_count+=1\n",
    "                    \n",
    "    if upper_count <2:\n",
    "        return 'Invalid Password'\n",
    "    \n",
    "    # check for at least 2 lowercase letter\n",
    "    lower_count=0\n",
    "    for char in password:\n",
    "        if char.islower():\n",
    "            lower_count+=1\n",
    "            \n",
    "    if lower_count<2:\n",
    "        return 'Invalid Password'\n",
    "    \n",
    "    # check for at least 1 number\n",
    "    has_number = False\n",
    "    for char in password:\n",
    "        if char.isdigit():\n",
    "            has_number = True\n",
    "            break\n",
    "    \n",
    "    if not has_number:\n",
    "        return \"Invalid Password\"\n",
    "    \n",
    "    # Check for at least 3 special characters\n",
    "    special_char_count=0\n",
    "    for char in password:\n",
    "        if char.isalnum():\n",
    "            special_char_count+=1\n",
    "    \n",
    "    if special_char_count<3:\n",
    "        return 'Invalid Password'\n",
    "    \n",
    "    return 'Valid Password'\n",
    "        \n",
    "    \n",
    "a='Ashish010###'\n",
    "b='Aa#!1Bb#2C'\n",
    "c=\"qesdre435o9\"\n",
    "print(check_password(a)) \n",
    "print(check_password(b))\n",
    "print(check_password(c))"
   ]
  },
  {
   "cell_type": "code",
   "execution_count": null,
   "id": "ac9c89cc-f99c-48c3-95d1-5b78d0e0733d",
   "metadata": {},
   "outputs": [],
   "source": []
  },
  {
   "cell_type": "markdown",
   "id": "9962de20-c793-45da-800e-551023ba2f6a",
   "metadata": {},
   "source": [
    "### Q2. Solve the below-given questions using at least one of the following:"
   ]
  },
  {
   "cell_type": "raw",
   "id": "c87b36dc-d668-4ee5-b44f-a153a7e2b8bc",
   "metadata": {},
   "source": [
    "Lambda function\n",
    "Filter function\n",
    "Zap function\n",
    "List Comprehension"
   ]
  },
  {
   "cell_type": "markdown",
   "id": "75099146-21de-490d-a71e-69eaf239621e",
   "metadata": {},
   "source": [
    "### Check if the string starts with a particular letter"
   ]
  },
  {
   "cell_type": "code",
   "execution_count": 3,
   "id": "c0643e78-3247-49f7-b90e-0fa76d26ac43",
   "metadata": {},
   "outputs": [
    {
     "name": "stdin",
     "output_type": "stream",
     "text": [
      "Enter the string: Ashish\n",
      "Enter the particular letter: A\n"
     ]
    },
    {
     "name": "stdout",
     "output_type": "stream",
     "text": [
      "True\n"
     ]
    }
   ],
   "source": [
    "#lambda function\n",
    "\n",
    "x=input(\"Enter the string:\")\n",
    "s=input(\"Enter the particular letter:\")\n",
    "\n",
    "res=lambda string, letter: True if string[0]==letter else False\n",
    "print(res(x,s))\n"
   ]
  },
  {
   "cell_type": "code",
   "execution_count": 4,
   "id": "1944e438-b676-464e-bf89-a3862e04d380",
   "metadata": {},
   "outputs": [
    {
     "name": "stdin",
     "output_type": "stream",
     "text": [
      "Enter the string: Birla\n",
      "Enter the particular letter: B\n"
     ]
    },
    {
     "name": "stdout",
     "output_type": "stream",
     "text": [
      "True\n"
     ]
    }
   ],
   "source": [
    "# List Comprehension function:\n",
    "x=input(\"Enter the string:\")\n",
    "s=input(\"Enter the particular letter:\")\n",
    "\n",
    "res=[True if x[0]==s else False]\n",
    "print(bool(res))"
   ]
  },
  {
   "cell_type": "code",
   "execution_count": null,
   "id": "05a7034a-b039-4a0e-98c7-579a5ae7c2df",
   "metadata": {},
   "outputs": [],
   "source": []
  },
  {
   "cell_type": "markdown",
   "id": "056195c1-7f44-41ce-8a8c-8da60981925a",
   "metadata": {},
   "source": [
    "### Check if the string is numeric:"
   ]
  },
  {
   "cell_type": "code",
   "execution_count": 5,
   "id": "00f7f710-4ab7-4f8c-80f4-48d825f9375f",
   "metadata": {},
   "outputs": [
    {
     "name": "stdin",
     "output_type": "stream",
     "text": [
      "Enter the string of numbers: 345\n"
     ]
    },
    {
     "name": "stdout",
     "output_type": "stream",
     "text": [
      "True\n"
     ]
    }
   ],
   "source": [
    "#lambda function\n",
    "\n",
    "x=input(\"Enter the string of numbers:\")\n",
    "\n",
    "\n",
    "res=lambda y: True if x.isnumeric() else False\n",
    "print(res(x))"
   ]
  },
  {
   "cell_type": "code",
   "execution_count": 6,
   "id": "872f11d8-a8d7-4752-8262-a6c25299a369",
   "metadata": {},
   "outputs": [
    {
     "name": "stdin",
     "output_type": "stream",
     "text": [
      "Enter the string of numbers: 1345\n"
     ]
    },
    {
     "name": "stdout",
     "output_type": "stream",
     "text": [
      "True\n"
     ]
    }
   ],
   "source": [
    "#List Comprehension\n",
    "\n",
    "x=input(\"Enter the string of numbers:\")\n",
    "\n",
    "print(bool([True if x.isnumeric() else False]))"
   ]
  },
  {
   "cell_type": "code",
   "execution_count": null,
   "id": "bb37561d-8718-48e1-af5e-f554dd83709e",
   "metadata": {},
   "outputs": [],
   "source": []
  },
  {
   "cell_type": "markdown",
   "id": "9116e209-3a19-4a61-a033-45765f6ebdab",
   "metadata": {},
   "source": [
    "### Sort a list of tuples having fruit names and their quantity. [(\"mango\",99),(\"orange\",80), (\"grapes\", 1000)"
   ]
  },
  {
   "cell_type": "code",
   "execution_count": 7,
   "id": "7ce3cd66-29d6-47b3-9e49-e030dc420bfe",
   "metadata": {},
   "outputs": [
    {
     "name": "stdout",
     "output_type": "stream",
     "text": [
      "[('orange', 80), ('mango', 99), ('grapes', 1000)]\n"
     ]
    }
   ],
   "source": [
    "# lambda function\n",
    "fruits = [(\"mango\", 99), (\"orange\", 80), (\"grapes\", 1000)]\n",
    "\n",
    "sorted_fruits = sorted(fruits, key=lambda x: x[1])\n",
    "\n",
    "print(sorted_fruits)"
   ]
  },
  {
   "cell_type": "code",
   "execution_count": 8,
   "id": "c2803058-e361-46fe-a62a-e71923a51a42",
   "metadata": {},
   "outputs": [
    {
     "name": "stdout",
     "output_type": "stream",
     "text": [
      "[('orange', 80), ('mango', 99), ('grapes', 1000)]\n"
     ]
    }
   ],
   "source": [
    "# list comprehension:\n",
    "\n",
    "fruits = [(\"mango\", 99), (\"orange\", 80), (\"grapes\", 1000)]\n",
    "\n",
    "fruits[0][1]\n",
    "sorted_fruits1 =[fruit for fruit in sorted(fruits, key=lambda x: x[1])] \n",
    "print(sorted_fruits1)"
   ]
  },
  {
   "cell_type": "code",
   "execution_count": null,
   "id": "3dfe17c3-ed83-45c1-a24c-51f33cf885aa",
   "metadata": {},
   "outputs": [],
   "source": []
  },
  {
   "cell_type": "markdown",
   "id": "c67bc39f-c668-4c8c-8e7d-a3cd372b7c3b",
   "metadata": {},
   "source": [
    "### Find the squares of numbers from 1 to 10"
   ]
  },
  {
   "cell_type": "code",
   "execution_count": 9,
   "id": "356d121f-b3c4-443a-933b-e2dd14b67a64",
   "metadata": {},
   "outputs": [
    {
     "data": {
      "text/plain": [
       "[1, 4, 9, 16, 25, 36, 49, 64, 81, 100]"
      ]
     },
     "execution_count": 9,
     "metadata": {},
     "output_type": "execute_result"
    }
   ],
   "source": [
    "# lambda and map\n",
    "\n",
    "squared_numbers = list(map(lambda x: x**2, range(1, 11)))\n",
    "squared_numbers\n"
   ]
  },
  {
   "cell_type": "code",
   "execution_count": 10,
   "id": "bdcf0c71-c19a-447a-901e-8e4bb22f6895",
   "metadata": {},
   "outputs": [
    {
     "name": "stdout",
     "output_type": "stream",
     "text": [
      "[1, 4, 9, 16, 25, 36, 49, 64, 81, 100]\n"
     ]
    }
   ],
   "source": [
    "# list coprehension\n",
    "squared_numbers1=[ x**2 for x in range(1,11)]\n",
    "print(squared_numbers1)"
   ]
  },
  {
   "cell_type": "code",
   "execution_count": null,
   "id": "3c3352de-1a74-43f6-92ad-fde33e9f00c9",
   "metadata": {},
   "outputs": [],
   "source": []
  },
  {
   "cell_type": "markdown",
   "id": "8efcaa45-1d72-46d7-b2a3-1ae7bbabc66f",
   "metadata": {},
   "source": [
    "### Find the cube root of numbers from 1 to 10"
   ]
  },
  {
   "cell_type": "code",
   "execution_count": 12,
   "id": "8ca8f559-afb7-4b85-8cbb-d59df603dbcc",
   "metadata": {},
   "outputs": [
    {
     "data": {
      "text/plain": [
       "[1, 8, 27, 64, 125, 216, 343, 512, 729, 1000]"
      ]
     },
     "execution_count": 12,
     "metadata": {},
     "output_type": "execute_result"
    }
   ],
   "source": [
    "# lambda and map\n",
    "\n",
    "cubed_num=list(map(lambda x: x**3, range(1, 11)))\n",
    "cubed_num"
   ]
  },
  {
   "cell_type": "code",
   "execution_count": 13,
   "id": "4dac7318-3462-481a-8690-0cad28aab512",
   "metadata": {},
   "outputs": [
    {
     "name": "stdout",
     "output_type": "stream",
     "text": [
      "[1, 8, 27, 64, 125, 216, 343, 512, 729, 1000]\n"
     ]
    }
   ],
   "source": [
    "# list coprehension\n",
    "squared_numbers1=[ x**3 for x in range(1,11)]\n",
    "print(squared_numbers1)"
   ]
  },
  {
   "cell_type": "code",
   "execution_count": null,
   "id": "cb753f79-3942-4abf-a3e1-7956e57d6ab1",
   "metadata": {},
   "outputs": [],
   "source": []
  },
  {
   "cell_type": "markdown",
   "id": "3a68a49d-d787-404a-b08b-2f8f97d69275",
   "metadata": {},
   "source": [
    "### Check if a given number is even"
   ]
  },
  {
   "cell_type": "code",
   "execution_count": 14,
   "id": "bfdb0df4-6fd6-47b0-9890-4ed6eb786946",
   "metadata": {},
   "outputs": [
    {
     "name": "stdin",
     "output_type": "stream",
     "text": [
      " 5\n"
     ]
    },
    {
     "name": "stdout",
     "output_type": "stream",
     "text": [
      "No\n",
      "12--> Yes\n"
     ]
    }
   ],
   "source": [
    "# lambda:\n",
    "x=int(input())\n",
    "is_even= lambda x: 'Yes' if x%2==0 else 'No'\n",
    "print(is_even(x))\n",
    "print('12-->',is_even(12))"
   ]
  },
  {
   "cell_type": "code",
   "execution_count": 15,
   "id": "31804a78-ef17-423c-a111-3a18e31612d1",
   "metadata": {},
   "outputs": [
    {
     "name": "stdin",
     "output_type": "stream",
     "text": [
      " 12\n"
     ]
    },
    {
     "name": "stdout",
     "output_type": "stream",
     "text": [
      "Yes\n"
     ]
    }
   ],
   "source": [
    "# list comprehension:\n",
    "\n",
    "x=int(input())\n",
    "\n",
    "is_even1=['Yes' if x%2==0 else 'No']\n",
    "print(''.join(map(str,is_even1))) # convert list to string"
   ]
  },
  {
   "cell_type": "code",
   "execution_count": null,
   "id": "b2615e42-ca5f-46d7-8a25-f5dad9275e84",
   "metadata": {},
   "outputs": [],
   "source": []
  },
  {
   "cell_type": "markdown",
   "id": "20aa5ab6-5817-4e4b-b75d-83f4c12d6878",
   "metadata": {},
   "source": [
    "### Filter odd numbers from the given list."
   ]
  },
  {
   "cell_type": "markdown",
   "id": "ba27f242-536f-4f2a-99b6-23a2860d05e3",
   "metadata": {},
   "source": [
    "[1,2,3,4,5,6,7,8,9,10]"
   ]
  },
  {
   "cell_type": "code",
   "execution_count": 16,
   "id": "a278cda6-d1e3-46f4-abff-e7e7db3f33b3",
   "metadata": {},
   "outputs": [
    {
     "name": "stdout",
     "output_type": "stream",
     "text": [
      "[1, 3, 5, 7, 9]\n"
     ]
    }
   ],
   "source": [
    "#lambda ,filter\n",
    "\n",
    "numbers = [1, 2, 3, 4, 5, 6, 7, 8, 9, 10]\n",
    "odd_numbers = (filter(lambda x: x % 2 != 0, numbers))\n",
    "print(list(odd_numbers))"
   ]
  },
  {
   "cell_type": "code",
   "execution_count": null,
   "id": "83eb8be5-c7c6-465a-8f27-cc75824c99d8",
   "metadata": {},
   "outputs": [],
   "source": []
  },
  {
   "cell_type": "markdown",
   "id": "ed3c0901-68c0-4247-80e5-3ffeec7ad61a",
   "metadata": {},
   "source": [
    "### Sort a list of integers into positive and negative integers lists"
   ]
  },
  {
   "cell_type": "markdown",
   "id": "5d3bbffd-6878-4343-8d8a-7539a94978e0",
   "metadata": {},
   "source": [
    "[1,2,3,4,5,6,-1,-2,-3,-4,-5,0]\n",
    "\n"
   ]
  },
  {
   "cell_type": "code",
   "execution_count": 17,
   "id": "89c5746a-adb7-46b7-9c2b-b95c9c42dd42",
   "metadata": {},
   "outputs": [
    {
     "name": "stdout",
     "output_type": "stream",
     "text": [
      "Positive integers: [1, 2, 3, 4, 5, 6]\n",
      "Negative integers: [-1, -2, -3, -4, -5]\n"
     ]
    }
   ],
   "source": [
    "# list comprehension\n",
    "input_list = [1,2,3,4,5,6,-1,-2,-3,-4,-5,0]\n",
    "positive_list = [x for x in input_list if x > 0]\n",
    "negative_list = [x for x in input_list if x < 0]\n",
    "\n",
    "print(\"Positive integers:\", positive_list)\n",
    "print(\"Negative integers:\", negative_list)"
   ]
  },
  {
   "cell_type": "code",
   "execution_count": 18,
   "id": "67a0c97e-67cb-487c-b01e-4e32ca66744e",
   "metadata": {},
   "outputs": [
    {
     "name": "stdout",
     "output_type": "stream",
     "text": [
      "Positive integers: [1, 2, 3, 4, 5, 6]\n",
      "Negative integers: [-1, -2, -3, -4, -5]\n"
     ]
    }
   ],
   "source": [
    "# filter and lambda\n",
    "input_list = [1,2,3,4,5,6,-1,-2,-3,-4,-5,0]\n",
    "\n",
    "positive= list(filter(lambda x: x>0,input_list))\n",
    "negative= list(filter(lambda x: x<0,input_list))\n",
    "\n",
    "print(\"Positive integers:\", positive)\n",
    "print(\"Negative integers:\", negative)"
   ]
  },
  {
   "cell_type": "code",
   "execution_count": null,
   "id": "6875a2ad-3b1f-4a82-ab5b-aaaf27ffd7c5",
   "metadata": {},
   "outputs": [],
   "source": []
  }
 ],
 "metadata": {
  "kernelspec": {
   "display_name": "Python 3 (ipykernel)",
   "language": "python",
   "name": "python3"
  },
  "language_info": {
   "codemirror_mode": {
    "name": "ipython",
    "version": 3
   },
   "file_extension": ".py",
   "mimetype": "text/x-python",
   "name": "python",
   "nbconvert_exporter": "python",
   "pygments_lexer": "ipython3",
   "version": "3.10.8"
  }
 },
 "nbformat": 4,
 "nbformat_minor": 5
}
